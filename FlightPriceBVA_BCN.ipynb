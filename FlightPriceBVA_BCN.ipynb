{
  "nbformat": 4,
  "nbformat_minor": 0,
  "metadata": {
    "colab": {
      "name": "FlightPriceBVA-BCN.ipynb",
      "provenance": [],
      "collapsed_sections": []
    },
    "kernelspec": {
      "name": "python3",
      "display_name": "Python 3"
    },
    "language_info": {
      "name": "python"
    }
  },
  "cells": [
    {
      "cell_type": "code",
      "source": [
        "import datetime\n",
        "from dateutil.relativedelta import relativedelta\n",
        "import requests\n",
        "import pandas as pd\n"
      ],
      "metadata": {
        "id": "sfcrEFc_gc04"
      },
      "execution_count": null,
      "outputs": []
    },
    {
      "cell_type": "code",
      "source": [
        "from google.colab import drive\n",
        "drive.mount('/content/drive')"
      ],
      "metadata": {
        "colab": {
          "base_uri": "https://localhost:8080/"
        },
        "id": "Q-T4EpQyTKfo",
        "outputId": "4e3b7425-ec16-4231-8d26-3a03578a574b"
      },
      "execution_count": null,
      "outputs": [
        {
          "output_type": "stream",
          "name": "stdout",
          "text": [
            "Mounted at /content/drive\n"
          ]
        }
      ]
    },
    {
      "cell_type": "code",
      "source": [
        "# Se si usa solo un sottoinsieme (chosen airports) conviene usare questo codice così non fa doppioni su dataset, perche codice fa andata ritorno\n",
        "chosen_airports = ['BVA', 'BCN']\n",
        "\n",
        "import itertools\n",
        "routes = []\n",
        "for subset in itertools.combinations(chosen_airports, 2):\n",
        "    routes.append(subset)\n",
        "print(routes)"
      ],
      "metadata": {
        "colab": {
          "base_uri": "https://localhost:8080/"
        },
        "id": "wt0yDVITrK5k",
        "outputId": "a5369f47-f9cb-45c1-f253-bf924b0f1bf4"
      },
      "execution_count": null,
      "outputs": [
        {
          "output_type": "stream",
          "name": "stdout",
          "text": [
            "[('STN', 'BCN')]\n"
          ]
        }
      ]
    },
    {
      "cell_type": "code",
      "execution_count": null,
      "metadata": {
        "colab": {
          "base_uri": "https://localhost:8080/"
        },
        "id": "Ym2UxzSkJ4Dw",
        "outputId": "b73de40a-7550-49eb-a7c0-45c0a3da47f0"
      },
      "outputs": [
        {
          "output_type": "stream",
          "name": "stdout",
          "text": [
            "    Origin Destination        Period        Date   Time   Price  \\\n",
            "0      STN         BCN          0day  04/21/2022  23:45   97.49   \n",
            "1      STN         BCN          1day  04/22/2022  11:25  126.99   \n",
            "2      STN         BCN          1day  04/22/2022  15:55  120.49   \n",
            "3      STN         BCN          1day  04/22/2022  19:10  138.99   \n",
            "4      STN         BCN          1day  04/22/2022  23:45  102.99   \n",
            "..     ...         ...           ...         ...    ...     ...   \n",
            "410    BLQ         STN  Three Months  07/21/2022  21:35   16.99   \n",
            "411    STN         BLQ   Four Months  08/21/2022  10:35   29.79   \n",
            "412    STN         BLQ   Four Months  08/21/2022  23:35   49.49   \n",
            "413    BLQ         STN   Four Months  08/21/2022  07:10   29.79   \n",
            "414    BLQ         STN   Four Months  08/21/2022  20:10   32.99   \n",
            "\n",
            "    Published Price  \n",
            "0            108.99  \n",
            "1            126.99  \n",
            "2            120.49  \n",
            "3            138.99  \n",
            "4            102.99  \n",
            "..              ...  \n",
            "410           16.99  \n",
            "411           32.99  \n",
            "412           49.49  \n",
            "413           32.99  \n",
            "414           32.99  \n",
            "\n",
            "[415 rows x 7 columns]\n"
          ]
        }
      ],
      "source": [
        "# Get flights information for the airports chosen\n",
        "\n",
        "today = datetime.datetime.today()\n",
        "master_df = pd.DataFrame(columns = ['Origin','Destination','Period','Date','Time','Price','Published Price'])\n",
        "date_dict = {}\n",
        "\n",
        "for keys, values in routes:\n",
        "    for i in range(34):\n",
        "        day = today + relativedelta(days=+i)\n",
        "        date_dict[str(i) + 'day'] = day\n",
        "    two_months = today + relativedelta(months=+2)\n",
        "    date_dict['Two Months'] = two_months\n",
        "    three_months = today + relativedelta(months=+3)\n",
        "    date_dict['Three Months'] = three_months\n",
        "    four_month = today + relativedelta(months=+4)\n",
        "    date_dict['Four Months'] = four_month\n",
        "    for keys2, values2  in date_dict.items():\n",
        "        date_in = values2.strftime('%Y-%m-%d')\n",
        "        date_out = values2 + relativedelta(days=+0)\n",
        "        date_out = date_out.strftime('%Y-%m-%d')\n",
        "        url = 'https://www.ryanair.com/api/booking/v4/en-gb/availability?ADT=1&CHD=0&DateIn={}&DateOut={}&Destination={}&Disc=0&INF=0&Origin={}&TEEN=0&promoCode=&IncludeConnectingFlights=false&RoundTrip=true&ToUs=AGREED'.format(date_in, date_out, values, keys)\n",
        "        content = str(requests.get(url).content)\n",
        "        flight_keys, prices, published_prices = ([] for i in range(3)) \n",
        "        for i, _ in enumerate(content):\n",
        "            needle1 = '\"flightKey\":\"'\n",
        "            needle2 = '\"amount\":'\n",
        "            needle3 = '\"publishedFare\":'\n",
        "            if content[i:i + len(needle1)] == needle1:\n",
        "                flight_keys.append(content[i+13:i+200].split('~~\",\"',1)[0])\n",
        "            if content[i:i + len(needle2)] == needle2:\n",
        "                prices.append(content[i+9:i+18].split(',',1)[0])\n",
        "            if content[i:i + len(needle3)] == needle3:\n",
        "                published_prices.append(content[i+16:i+25].split(',',1)[0])\n",
        "        if len(flight_keys) == len(published_prices) == len(prices):\n",
        "            for i in range(0, len(flight_keys)):\n",
        "                time = flight_keys[i][-5:]\n",
        "                date  = flight_keys[i][-16:-6]\n",
        "                if flight_keys[i][-20:-17] == values:\n",
        "                    origin = keys\n",
        "                    destination = values\n",
        "                else:\n",
        "                    origin = values\n",
        "                    destination = keys\n",
        "                price = prices[i]\n",
        "                published_price = published_prices[i]\n",
        "                row = [origin,destination,keys2,date,time,price,published_price]\n",
        "                master_df.loc[len(master_df)] = row\n",
        "print(master_df)"
      ]
    },
    {
      "cell_type": "code",
      "source": [
        "now = datetime.datetime.now() # current date and time\n",
        "\n",
        "year = now.strftime(\"%Y\")\n",
        "month = now.strftime(\"%m\")\n",
        "day = now.strftime(\"%d\")\n",
        "time = now.strftime(\"%H:%M:%S\")\n",
        "date_time = now.strftime(\"%m%d%Y-%H:%M:%S\")"
      ],
      "metadata": {
        "id": "aWTbmT3aOp2y"
      },
      "execution_count": null,
      "outputs": []
    },
    {
      "cell_type": "code",
      "source": [
        "master_df.to_csv('/content/drive/MyDrive/data/BVABCN/'+date_time+'.csv')"
      ],
      "metadata": {
        "id": "4Th1YLVbKWam"
      },
      "execution_count": null,
      "outputs": []
    }
  ]
}