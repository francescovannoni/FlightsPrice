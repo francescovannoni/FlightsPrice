{
  "nbformat": 4,
  "nbformat_minor": 0,
  "metadata": {
    "colab": {
      "name": "FlightPriceBVA-BCN.ipynb",
      "provenance": [],
      "collapsed_sections": []
    },
    "kernelspec": {
      "name": "python3",
      "display_name": "Python 3"
    },
    "language_info": {
      "name": "python"
    }
  },
  "cells": [
    {
      "cell_type": "code",
      "source": [
        "from dateutil.relativedelta import relativedelta\n",
        "import requests\n",
        "import pandas as pd\n",
        "from datetime import datetime\n",
        "import pytz"
      ],
      "metadata": {
        "id": "sfcrEFc_gc04"
      },
      "execution_count": null,
      "outputs": []
    },
    {
      "cell_type": "code",
      "source": [
        "from google.colab import drive\n",
        "drive.mount('/content/drive')"
      ],
      "metadata": {
        "colab": {
          "base_uri": "https://localhost:8080/"
        },
        "id": "Q-T4EpQyTKfo",
        "outputId": "7af8dadb-46a0-44fc-e4ef-2c3a0558a566"
      },
      "execution_count": null,
      "outputs": [
        {
          "output_type": "stream",
          "name": "stdout",
          "text": [
            "Drive already mounted at /content/drive; to attempt to forcibly remount, call drive.mount(\"/content/drive\", force_remount=True).\n"
          ]
        }
      ]
    },
    {
      "cell_type": "code",
      "source": [
        "# Se si usa solo un sottoinsieme (chosen airports) conviene usare questo codice così non fa doppioni su dataset, perche codice fa andata ritorno\n",
        "chosen_airports = ['BVA', 'BCN']\n",
        "\n",
        "import itertools\n",
        "routes = []\n",
        "for subset in itertools.combinations(chosen_airports, 2):\n",
        "    routes.append(subset)\n",
        "print(routes)"
      ],
      "metadata": {
        "colab": {
          "base_uri": "https://localhost:8080/"
        },
        "id": "wt0yDVITrK5k",
        "outputId": "cbbb2c21-32f6-423b-c8e9-a3733271ddad"
      },
      "execution_count": null,
      "outputs": [
        {
          "output_type": "stream",
          "name": "stdout",
          "text": [
            "[('BVA', 'BCN')]\n"
          ]
        }
      ]
    },
    {
      "cell_type": "code",
      "source": [
        "now = datetime.now() # current date and time\n",
        "\n",
        "tz_Rome = pytz.timezone('Europe/Rome')\n",
        "datetime_Rome = datetime.now(tz_Rome)\n",
        "hour = datetime_Rome.strftime(\"%H:%M\")\n",
        "date = now.strftime(\"%m:%d:%Y\")\n",
        "date_time = date + '-' + hour"
      ],
      "metadata": {
        "id": "aWTbmT3aOp2y"
      },
      "execution_count": null,
      "outputs": []
    },
    {
      "cell_type": "code",
      "execution_count": null,
      "metadata": {
        "colab": {
          "base_uri": "https://localhost:8080/"
        },
        "id": "Ym2UxzSkJ4Dw",
        "outputId": "6b100898-a2ad-4b4f-f7b4-bd0787f4ed9e"
      },
      "outputs": [
        {
          "output_type": "stream",
          "name": "stdout",
          "text": [
            "Empty DataFrame\n",
            "Columns: [Flight Code, Origin, Destination, Period, Date, Departure Time, Arrival Time, Price, Published Price, Tracking Date, Tracking Hour]\n",
            "Index: []\n"
          ]
        }
      ],
      "source": [
        "# Get flights information for the airports chosen\n",
        "\n",
        "today = datetime.today()\n",
        "master_df = pd.DataFrame(columns = ['Flight Code', 'Origin','Destination','Period','Date','Departure Time', 'Arrival Time', 'Price','Published Price', 'Tracking Date', 'Tracking Hour'])\n",
        "date_dict = {}\n",
        "\n",
        "for keys, values in routes:\n",
        "    for i in range(34):\n",
        "        day = today + relativedelta(days=+i)\n",
        "        date_dict[str(i) + 'day'] = day\n",
        "    two_months = today + relativedelta(months=+2)\n",
        "    date_dict['Two Months'] = two_months\n",
        "    three_months = today + relativedelta(months=+3)\n",
        "    date_dict['Three Months'] = three_months\n",
        "    four_month = today + relativedelta(months=+4)\n",
        "    date_dict['Four Months'] = four_month\n",
        "    for keys2, values2  in date_dict.items():\n",
        "        date_in = values2.strftime('%Y-%m-%d')\n",
        "        date_out = values2 + relativedelta(days=+0)\n",
        "        date_out = date_out.strftime('%Y-%m-%d')\n",
        "        url = 'https://www.ryanair.com/api/booking/v4/en-gb/availability?ADT=1&CHD=0&DateIn={}&DateOut={}&Destination={}&Disc=0&INF=0&Origin={}&TEEN=0&promoCode=&IncludeConnectingFlights=false&RoundTrip=false&ToUs=AGREED'.format(date_in, date_out, values, keys)\n",
        "        content = str(requests.get(url).content)\n",
        "        flight_keys, prices, published_prices = ([] for i in range(3)) \n",
        "        for i, _ in enumerate(content):\n",
        "            needle1 = '\"flightKey\":\"'\n",
        "            needle2 = '\"amount\":'\n",
        "            needle3 = '\"publishedFare\":'\n",
        "            if content[i:i + len(needle1)] == needle1:\n",
        "                flight_keys.append(content[i+13:i+200].split('~~\",\"',1)[0])\n",
        "            if content[i:i + len(needle2)] == needle2:\n",
        "                prices.append(content[i+9:i+18].split(',',1)[0])\n",
        "            if content[i:i + len(needle3)] == needle3:\n",
        "                published_prices.append(content[i+16:i+25].split(',',1)[0])\n",
        "        if len(flight_keys) == len(published_prices) == len(prices):\n",
        "            for i in range(0, len(flight_keys)):\n",
        "                flight_code = flight_keys[i][:7]\n",
        "                departure_time = flight_keys[i][-26:-21]\n",
        "                arrival_time = flight_keys[i][-5:]\n",
        "                date  = flight_keys[i][-16:-6]\n",
        "                if flight_keys[i][-20:-17] == values:\n",
        "                    origin = keys\n",
        "                    destination = values\n",
        "                else:\n",
        "                    origin = values\n",
        "                    destination = keys\n",
        "                price = prices[i]\n",
        "                published_price = published_prices[i]\n",
        "                row = [flight_code, origin,destination,keys2,date,departure_time,arrival_time,price,published_price, date, hour]\n",
        "                master_df.loc[len(master_df)] = row\n",
        "print(master_df)"
      ]
    },
    {
      "cell_type": "code",
      "source": [
        "master_df.to_csv('/content/drive/MyDrive/BVABCN/data'+date_time+'.csv')"
      ],
      "metadata": {
        "id": "4Th1YLVbKWam"
      },
      "execution_count": null,
      "outputs": []
    }
  ]
}